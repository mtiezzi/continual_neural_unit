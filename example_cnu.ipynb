{
  "nbformat": 4,
  "nbformat_minor": 0,
  "metadata": {
    "colab": {
      "provenance": [],
      "authorship_tag": "ABX9TyMhDWz93rLjRcR1kZ1CKIBs",
      "include_colab_link": true
    },
    "kernelspec": {
      "name": "python3",
      "display_name": "Python 3"
    },
    "language_info": {
      "name": "python"
    }
  },
  "cells": [
    {
      "cell_type": "markdown",
      "metadata": {
        "id": "view-in-github",
        "colab_type": "text"
      },
      "source": [
        "<a href=\"https://colab.research.google.com/github/mtiezzi/continual_neural_unit/blob/main/example_cnu.ipynb\" target=\"_parent\"><img src=\"https://colab.research.google.com/assets/colab-badge.svg\" alt=\"Open In Colab\"/></a>"
      ]
    },
    {
      "cell_type": "markdown",
      "source": [
        "###Introduction\n",
        "\n",
        "This notebook shows how to define and use Continua Neural Units (**CNUs**).\n",
        "\n",
        "Let's start by cloning the repository containing the library."
      ],
      "metadata": {
        "id": "SDBDi_pDkOge"
      }
    },
    {
      "cell_type": "code",
      "source": [
        "!git clone https://github.com/sailab-code/continual_neural_unit"
      ],
      "metadata": {
        "id": "uMbz_KMIQpGu",
        "colab": {
          "base_uri": "https://localhost:8080/"
        },
        "outputId": "c5795770-93e8-43ee-d5f2-95c718e6bcbe"
      },
      "execution_count": 1,
      "outputs": [
        {
          "output_type": "stream",
          "name": "stdout",
          "text": [
            "Cloning into 'continual_neural_unit'...\n",
            "remote: Enumerating objects: 55, done.\u001b[K\n",
            "remote: Counting objects: 100% (55/55), done.\u001b[K\n",
            "remote: Compressing objects: 100% (42/42), done.\u001b[K\n",
            "remote: Total 55 (delta 16), reused 44 (delta 10), pack-reused 0\u001b[K\n",
            "Receiving objects: 100% (55/55), 920.67 KiB | 5.45 MiB/s, done.\n",
            "Resolving deltas: 100% (16/16), done.\n"
          ]
        }
      ]
    },
    {
      "cell_type": "code",
      "source": [
        "%cd continual_neural_unit\n",
        "!pip install -r requirements.txt"
      ],
      "metadata": {
        "id": "VToiH_LpQuFo",
        "collapsed": true,
        "colab": {
          "base_uri": "https://localhost:8080/"
        },
        "outputId": "cc2ff1d1-8656-4c9b-ee3d-4f0edc7caf7d"
      },
      "execution_count": 4,
      "outputs": [
        {
          "output_type": "stream",
          "name": "stdout",
          "text": [
            "/content/continual_neural_unit\n",
            "Requirement already satisfied: matplotlib in /usr/local/lib/python3.10/dist-packages (from -r requirements.txt (line 1)) (3.7.1)\n",
            "Requirement already satisfied: numpy in /usr/local/lib/python3.10/dist-packages (from -r requirements.txt (line 2)) (1.25.2)\n",
            "Requirement already satisfied: Pillow in /usr/local/lib/python3.10/dist-packages (from -r requirements.txt (line 3)) (9.4.0)\n",
            "Requirement already satisfied: protobuf in /usr/local/lib/python3.10/dist-packages (from -r requirements.txt (line 4)) (3.20.3)\n",
            "Requirement already satisfied: scikit-learn in /usr/local/lib/python3.10/dist-packages (from -r requirements.txt (line 5)) (1.2.2)\n",
            "Requirement already satisfied: scipy in /usr/local/lib/python3.10/dist-packages (from -r requirements.txt (line 6)) (1.11.4)\n",
            "Collecting torchinfo (from -r requirements.txt (line 7))\n",
            "  Downloading torchinfo-1.8.0-py3-none-any.whl (23 kB)\n",
            "Collecting torchmetrics (from -r requirements.txt (line 8))\n",
            "  Downloading torchmetrics-1.4.0.post0-py3-none-any.whl (868 kB)\n",
            "\u001b[2K     \u001b[90m━━━━━━━━━━━━━━━━━━━━━━━━━━━━━━━━━━━━━━━━\u001b[0m \u001b[32m868.8/868.8 kB\u001b[0m \u001b[31m4.7 MB/s\u001b[0m eta \u001b[36m0:00:00\u001b[0m\n",
            "\u001b[?25hRequirement already satisfied: torchvision in /usr/local/lib/python3.10/dist-packages (from -r requirements.txt (line 9)) (0.18.0+cu121)\n",
            "Requirement already satisfied: tqdm in /usr/local/lib/python3.10/dist-packages (from -r requirements.txt (line 10)) (4.66.4)\n",
            "Collecting wandb (from -r requirements.txt (line 11))\n",
            "  Downloading wandb-0.17.1-py3-none-manylinux_2_5_x86_64.manylinux1_x86_64.manylinux_2_17_x86_64.manylinux2014_x86_64.whl (6.8 MB)\n",
            "\u001b[2K     \u001b[90m━━━━━━━━━━━━━━━━━━━━━━━━━━━━━━━━━━━━━━━━\u001b[0m \u001b[32m6.8/6.8 MB\u001b[0m \u001b[31m37.8 MB/s\u001b[0m eta \u001b[36m0:00:00\u001b[0m\n",
            "\u001b[?25hRequirement already satisfied: contourpy>=1.0.1 in /usr/local/lib/python3.10/dist-packages (from matplotlib->-r requirements.txt (line 1)) (1.2.1)\n",
            "Requirement already satisfied: cycler>=0.10 in /usr/local/lib/python3.10/dist-packages (from matplotlib->-r requirements.txt (line 1)) (0.12.1)\n",
            "Requirement already satisfied: fonttools>=4.22.0 in /usr/local/lib/python3.10/dist-packages (from matplotlib->-r requirements.txt (line 1)) (4.53.0)\n",
            "Requirement already satisfied: kiwisolver>=1.0.1 in /usr/local/lib/python3.10/dist-packages (from matplotlib->-r requirements.txt (line 1)) (1.4.5)\n",
            "Requirement already satisfied: packaging>=20.0 in /usr/local/lib/python3.10/dist-packages (from matplotlib->-r requirements.txt (line 1)) (24.0)\n",
            "Requirement already satisfied: pyparsing>=2.3.1 in /usr/local/lib/python3.10/dist-packages (from matplotlib->-r requirements.txt (line 1)) (3.1.2)\n",
            "Requirement already satisfied: python-dateutil>=2.7 in /usr/local/lib/python3.10/dist-packages (from matplotlib->-r requirements.txt (line 1)) (2.8.2)\n",
            "Requirement already satisfied: joblib>=1.1.1 in /usr/local/lib/python3.10/dist-packages (from scikit-learn->-r requirements.txt (line 5)) (1.4.2)\n",
            "Requirement already satisfied: threadpoolctl>=2.0.0 in /usr/local/lib/python3.10/dist-packages (from scikit-learn->-r requirements.txt (line 5)) (3.5.0)\n",
            "Requirement already satisfied: torch>=1.10.0 in /usr/local/lib/python3.10/dist-packages (from torchmetrics->-r requirements.txt (line 8)) (2.3.0+cu121)\n",
            "Collecting lightning-utilities>=0.8.0 (from torchmetrics->-r requirements.txt (line 8))\n",
            "  Downloading lightning_utilities-0.11.2-py3-none-any.whl (26 kB)\n",
            "Requirement already satisfied: filelock in /usr/local/lib/python3.10/dist-packages (from torch>=1.10.0->torchmetrics->-r requirements.txt (line 8)) (3.14.0)\n",
            "Requirement already satisfied: typing-extensions>=4.8.0 in /usr/local/lib/python3.10/dist-packages (from torch>=1.10.0->torchmetrics->-r requirements.txt (line 8)) (4.12.1)\n",
            "Requirement already satisfied: sympy in /usr/local/lib/python3.10/dist-packages (from torch>=1.10.0->torchmetrics->-r requirements.txt (line 8)) (1.12.1)\n",
            "Requirement already satisfied: networkx in /usr/local/lib/python3.10/dist-packages (from torch>=1.10.0->torchmetrics->-r requirements.txt (line 8)) (3.3)\n",
            "Requirement already satisfied: jinja2 in /usr/local/lib/python3.10/dist-packages (from torch>=1.10.0->torchmetrics->-r requirements.txt (line 8)) (3.1.4)\n",
            "Requirement already satisfied: fsspec in /usr/local/lib/python3.10/dist-packages (from torch>=1.10.0->torchmetrics->-r requirements.txt (line 8)) (2023.6.0)\n",
            "Collecting nvidia-cuda-nvrtc-cu12==12.1.105 (from torch>=1.10.0->torchmetrics->-r requirements.txt (line 8))\n",
            "  Using cached nvidia_cuda_nvrtc_cu12-12.1.105-py3-none-manylinux1_x86_64.whl (23.7 MB)\n",
            "Collecting nvidia-cuda-runtime-cu12==12.1.105 (from torch>=1.10.0->torchmetrics->-r requirements.txt (line 8))\n",
            "  Using cached nvidia_cuda_runtime_cu12-12.1.105-py3-none-manylinux1_x86_64.whl (823 kB)\n",
            "Collecting nvidia-cuda-cupti-cu12==12.1.105 (from torch>=1.10.0->torchmetrics->-r requirements.txt (line 8))\n",
            "  Using cached nvidia_cuda_cupti_cu12-12.1.105-py3-none-manylinux1_x86_64.whl (14.1 MB)\n",
            "Collecting nvidia-cudnn-cu12==8.9.2.26 (from torch>=1.10.0->torchmetrics->-r requirements.txt (line 8))\n",
            "  Using cached nvidia_cudnn_cu12-8.9.2.26-py3-none-manylinux1_x86_64.whl (731.7 MB)\n",
            "Collecting nvidia-cublas-cu12==12.1.3.1 (from torch>=1.10.0->torchmetrics->-r requirements.txt (line 8))\n",
            "  Using cached nvidia_cublas_cu12-12.1.3.1-py3-none-manylinux1_x86_64.whl (410.6 MB)\n",
            "Collecting nvidia-cufft-cu12==11.0.2.54 (from torch>=1.10.0->torchmetrics->-r requirements.txt (line 8))\n",
            "  Using cached nvidia_cufft_cu12-11.0.2.54-py3-none-manylinux1_x86_64.whl (121.6 MB)\n",
            "Collecting nvidia-curand-cu12==10.3.2.106 (from torch>=1.10.0->torchmetrics->-r requirements.txt (line 8))\n",
            "  Using cached nvidia_curand_cu12-10.3.2.106-py3-none-manylinux1_x86_64.whl (56.5 MB)\n",
            "Collecting nvidia-cusolver-cu12==11.4.5.107 (from torch>=1.10.0->torchmetrics->-r requirements.txt (line 8))\n",
            "  Using cached nvidia_cusolver_cu12-11.4.5.107-py3-none-manylinux1_x86_64.whl (124.2 MB)\n",
            "Collecting nvidia-cusparse-cu12==12.1.0.106 (from torch>=1.10.0->torchmetrics->-r requirements.txt (line 8))\n",
            "  Using cached nvidia_cusparse_cu12-12.1.0.106-py3-none-manylinux1_x86_64.whl (196.0 MB)\n",
            "Collecting nvidia-nccl-cu12==2.20.5 (from torch>=1.10.0->torchmetrics->-r requirements.txt (line 8))\n",
            "  Using cached nvidia_nccl_cu12-2.20.5-py3-none-manylinux2014_x86_64.whl (176.2 MB)\n",
            "Collecting nvidia-nvtx-cu12==12.1.105 (from torch>=1.10.0->torchmetrics->-r requirements.txt (line 8))\n",
            "  Using cached nvidia_nvtx_cu12-12.1.105-py3-none-manylinux1_x86_64.whl (99 kB)\n",
            "Requirement already satisfied: triton==2.3.0 in /usr/local/lib/python3.10/dist-packages (from torch>=1.10.0->torchmetrics->-r requirements.txt (line 8)) (2.3.0)\n",
            "Collecting nvidia-nvjitlink-cu12 (from nvidia-cusolver-cu12==11.4.5.107->torch>=1.10.0->torchmetrics->-r requirements.txt (line 8))\n",
            "  Downloading nvidia_nvjitlink_cu12-12.5.40-py3-none-manylinux2014_x86_64.whl (21.3 MB)\n",
            "\u001b[2K     \u001b[90m━━━━━━━━━━━━━━━━━━━━━━━━━━━━━━━━━━━━━━━━\u001b[0m \u001b[32m21.3/21.3 MB\u001b[0m \u001b[31m47.1 MB/s\u001b[0m eta \u001b[36m0:00:00\u001b[0m\n",
            "\u001b[?25hRequirement already satisfied: click!=8.0.0,>=7.1 in /usr/local/lib/python3.10/dist-packages (from wandb->-r requirements.txt (line 11)) (8.1.7)\n",
            "Collecting docker-pycreds>=0.4.0 (from wandb->-r requirements.txt (line 11))\n",
            "  Downloading docker_pycreds-0.4.0-py2.py3-none-any.whl (9.0 kB)\n",
            "Collecting gitpython!=3.1.29,>=1.0.0 (from wandb->-r requirements.txt (line 11))\n",
            "  Downloading GitPython-3.1.43-py3-none-any.whl (207 kB)\n",
            "\u001b[2K     \u001b[90m━━━━━━━━━━━━━━━━━━━━━━━━━━━━━━━━━━━━━━━━\u001b[0m \u001b[32m207.3/207.3 kB\u001b[0m \u001b[31m20.8 MB/s\u001b[0m eta \u001b[36m0:00:00\u001b[0m\n",
            "\u001b[?25hRequirement already satisfied: platformdirs in /usr/local/lib/python3.10/dist-packages (from wandb->-r requirements.txt (line 11)) (4.2.2)\n",
            "Requirement already satisfied: psutil>=5.0.0 in /usr/local/lib/python3.10/dist-packages (from wandb->-r requirements.txt (line 11)) (5.9.5)\n",
            "Requirement already satisfied: pyyaml in /usr/local/lib/python3.10/dist-packages (from wandb->-r requirements.txt (line 11)) (6.0.1)\n",
            "Requirement already satisfied: requests<3,>=2.0.0 in /usr/local/lib/python3.10/dist-packages (from wandb->-r requirements.txt (line 11)) (2.31.0)\n",
            "Collecting sentry-sdk>=1.0.0 (from wandb->-r requirements.txt (line 11))\n",
            "  Downloading sentry_sdk-2.5.1-py2.py3-none-any.whl (289 kB)\n",
            "\u001b[2K     \u001b[90m━━━━━━━━━━━━━━━━━━━━━━━━━━━━━━━━━━━━━━━━\u001b[0m \u001b[32m289.6/289.6 kB\u001b[0m \u001b[31m28.1 MB/s\u001b[0m eta \u001b[36m0:00:00\u001b[0m\n",
            "\u001b[?25hCollecting setproctitle (from wandb->-r requirements.txt (line 11))\n",
            "  Downloading setproctitle-1.3.3-cp310-cp310-manylinux_2_5_x86_64.manylinux1_x86_64.manylinux_2_17_x86_64.manylinux2014_x86_64.whl (30 kB)\n",
            "Requirement already satisfied: setuptools in /usr/local/lib/python3.10/dist-packages (from wandb->-r requirements.txt (line 11)) (67.7.2)\n",
            "Requirement already satisfied: six>=1.4.0 in /usr/local/lib/python3.10/dist-packages (from docker-pycreds>=0.4.0->wandb->-r requirements.txt (line 11)) (1.16.0)\n",
            "Collecting gitdb<5,>=4.0.1 (from gitpython!=3.1.29,>=1.0.0->wandb->-r requirements.txt (line 11))\n",
            "  Downloading gitdb-4.0.11-py3-none-any.whl (62 kB)\n",
            "\u001b[2K     \u001b[90m━━━━━━━━━━━━━━━━━━━━━━━━━━━━━━━━━━━━━━━━\u001b[0m \u001b[32m62.7/62.7 kB\u001b[0m \u001b[31m7.2 MB/s\u001b[0m eta \u001b[36m0:00:00\u001b[0m\n",
            "\u001b[?25hRequirement already satisfied: charset-normalizer<4,>=2 in /usr/local/lib/python3.10/dist-packages (from requests<3,>=2.0.0->wandb->-r requirements.txt (line 11)) (3.3.2)\n",
            "Requirement already satisfied: idna<4,>=2.5 in /usr/local/lib/python3.10/dist-packages (from requests<3,>=2.0.0->wandb->-r requirements.txt (line 11)) (3.7)\n",
            "Requirement already satisfied: urllib3<3,>=1.21.1 in /usr/local/lib/python3.10/dist-packages (from requests<3,>=2.0.0->wandb->-r requirements.txt (line 11)) (2.0.7)\n",
            "Requirement already satisfied: certifi>=2017.4.17 in /usr/local/lib/python3.10/dist-packages (from requests<3,>=2.0.0->wandb->-r requirements.txt (line 11)) (2024.6.2)\n",
            "Collecting smmap<6,>=3.0.1 (from gitdb<5,>=4.0.1->gitpython!=3.1.29,>=1.0.0->wandb->-r requirements.txt (line 11))\n",
            "  Downloading smmap-5.0.1-py3-none-any.whl (24 kB)\n",
            "Requirement already satisfied: MarkupSafe>=2.0 in /usr/local/lib/python3.10/dist-packages (from jinja2->torch>=1.10.0->torchmetrics->-r requirements.txt (line 8)) (2.1.5)\n",
            "Requirement already satisfied: mpmath<1.4.0,>=1.1.0 in /usr/local/lib/python3.10/dist-packages (from sympy->torch>=1.10.0->torchmetrics->-r requirements.txt (line 8)) (1.3.0)\n",
            "Installing collected packages: torchinfo, smmap, setproctitle, sentry-sdk, nvidia-nvtx-cu12, nvidia-nvjitlink-cu12, nvidia-nccl-cu12, nvidia-curand-cu12, nvidia-cufft-cu12, nvidia-cuda-runtime-cu12, nvidia-cuda-nvrtc-cu12, nvidia-cuda-cupti-cu12, nvidia-cublas-cu12, lightning-utilities, docker-pycreds, nvidia-cusparse-cu12, nvidia-cudnn-cu12, gitdb, nvidia-cusolver-cu12, gitpython, wandb, torchmetrics\n",
            "Successfully installed docker-pycreds-0.4.0 gitdb-4.0.11 gitpython-3.1.43 lightning-utilities-0.11.2 nvidia-cublas-cu12-12.1.3.1 nvidia-cuda-cupti-cu12-12.1.105 nvidia-cuda-nvrtc-cu12-12.1.105 nvidia-cuda-runtime-cu12-12.1.105 nvidia-cudnn-cu12-8.9.2.26 nvidia-cufft-cu12-11.0.2.54 nvidia-curand-cu12-10.3.2.106 nvidia-cusolver-cu12-11.4.5.107 nvidia-cusparse-cu12-12.1.0.106 nvidia-nccl-cu12-2.20.5 nvidia-nvjitlink-cu12-12.5.40 nvidia-nvtx-cu12-12.1.105 sentry-sdk-2.5.1 setproctitle-1.3.3 smmap-5.0.1 torchinfo-1.8.0 torchmetrics-1.4.0.post0 wandb-0.17.1\n"
          ]
        }
      ]
    },
    {
      "cell_type": "markdown",
      "source": [
        "Import libraries and utils"
      ],
      "metadata": {
        "id": "77N1jMBfRRye"
      }
    },
    {
      "cell_type": "code",
      "source": [
        "import torch\n",
        "import torch.nn as nn\n",
        "from d2d.utils_2d_datasets import load_toy_dataset, fill_row_in_continual_confusion_matrix, \\\n",
        "    print_continual_confusion_matrix, update_metrics, print_metrics, check_validity_of_distributions, \\\n",
        "    create_metrics_dictionary, convert_toy_dataset_to_pytorch_tensors, create_continual_confusion_matrix, \\\n",
        "    plot_2d_data_and_predictions, add_keys_from_continual_memory_neurons"
      ],
      "metadata": {
        "id": "aRj7OVAlQ98A"
      },
      "execution_count": 5,
      "outputs": []
    },
    {
      "cell_type": "markdown",
      "source": [
        "Now, let's import a 2d dataset (MODES dataset, see the main paper for further details)."
      ],
      "metadata": {
        "id": "ZbCSh6XfRW-s"
      }
    },
    {
      "cell_type": "code",
      "source": [
        "# --------------------\n",
        "# CUSTOMIZABLE OPTIONS\n",
        "# --------------------\n",
        "device = torch.device('cpu')\n",
        "# file = \"d2d/generated_datasets/bi-modals_IID.npz\"\n",
        "file = \"d2d/generated_datasets/bi-modals_CI.npz\"\n",
        "# file = \"d2d/generated_datasets/bi-modals_CDI.npz\"\n",
        "# file = \"d2d/generated_datasets/bi-modals_CDID.npz\"\n",
        "# file = \"d2d/generated_datasets/bi-moons_IID.npz\"\n",
        "# file = \"d2d/generated_datasets/bi-moons_CI.npz\"\n",
        "# file = \"d2d/generated_datasets/bi-moons_CDI.npz\"\n",
        "# file = \"d2d/generated_datasets/bi-moons_CDID.npz\"\n",
        "# --------------------\n",
        "\n",
        "# loading data\n",
        "loaded_data, d, c = load_toy_dataset(file)  # loading data (returns: data dictionary, input size, num classes)\n",
        "\n",
        "# converting data collections (train, val, test) to torch tensors, right format, right device\n",
        "X_train, y_train, distributions_train, X_val, y_val, distributions_val, X_test, y_test, distributions_test = \\\n",
        "    convert_toy_dataset_to_pytorch_tensors(loaded_data, device)\n",
        "\n",
        "# checking validity of the distribution indices (better be sure!)\n",
        "check_validity_of_distributions(distributions_train, distributions_val, distributions_test)"
      ],
      "metadata": {
        "id": "AOdbwLiMRLZA"
      },
      "execution_count": 6,
      "outputs": []
    },
    {
      "cell_type": "markdown",
      "source": [
        "Now, let's create a vanilla MLP\n"
      ],
      "metadata": {
        "id": "TjCtdOIwRV96"
      }
    },
    {
      "cell_type": "code",
      "source": [
        "# creating the neural network\n",
        "net = nn.Sequential(\n",
        "    nn.Linear(in_features=d, out_features=10, bias=True),\n",
        "    nn.Tanh(),\n",
        "    nn.Linear(in_features=10, out_features=c, bias=True)\n",
        ").to(device)"
      ],
      "metadata": {
        "id": "imx6I1a5UyIO"
      },
      "execution_count": 7,
      "outputs": []
    },
    {
      "cell_type": "markdown",
      "source": [
        "Let's test this model on the online domain-incremental 2d MODES dataset, and plot the decision surfaces."
      ],
      "metadata": {
        "id": "5VkD0JWZU5JM"
      }
    },
    {
      "cell_type": "code",
      "source": [
        "# optimizer\n",
        "optimizer = torch.optim.Adam(net.parameters(), lr=0.09)\n",
        "\n",
        "# continual confusion matrices (empty, -1 means \"unfilled yet\", important!)\n",
        "CCM_train = create_continual_confusion_matrix(distributions_train)\n",
        "CCM_val = create_continual_confusion_matrix(distributions_val)\n",
        "CCM_test = create_continual_confusion_matrix(distributions_test)\n",
        "\n",
        "# metrics containers (empty, -1 means \"unfilled yet\", important!)\n",
        "metrics_train = create_metrics_dictionary(distributions_train)\n",
        "metrics_val = create_metrics_dictionary(distributions_val)\n",
        "metrics_test = create_metrics_dictionary(distributions_test)\n",
        "\n",
        "# streaming loop\n",
        "net.train()\n",
        "for t, (x, y, distribution) in enumerate(zip(X_train, y_train, distributions_train)):\n",
        "\n",
        "    # adding batch size and clearing up the tensor box\n",
        "    x.unsqueeze_(0)\n",
        "    y.unsqueeze_(0)\n",
        "    distribution = distribution.item()\n",
        "\n",
        "    # learning step\n",
        "    o = net(x)\n",
        "    loss = nn.functional.cross_entropy(o, y, reduction='mean')  # no real reductions are actually performed...\n",
        "    optimizer.zero_grad()\n",
        "    loss.backward()\n",
        "    optimizer.step()\n",
        "\n",
        "    # printing\n",
        "    if t % 100 == 0:\n",
        "      print('t=' + str(t) + ', loss=' + str(loss.item()))\n",
        "\n",
        "    # metrics (computed when training ends or when the distribution is going to change on the next step)\n",
        "    if t == X_train.shape[0] - 1 or distributions_train[t + 1] != distribution:\n",
        "\n",
        "        # adding a new row to the continual confusion matrices (exploiting the current network)\n",
        "        fill_row_in_continual_confusion_matrix(CCM_train, distribution, net, X_train, y_train, distributions_train)\n",
        "        fill_row_in_continual_confusion_matrix(CCM_val, distribution, net, X_val, y_val, distributions_val)\n",
        "        fill_row_in_continual_confusion_matrix(CCM_test, distribution, net, X_test, y_test, distributions_test)\n",
        "\n",
        "        # updating metrics\n",
        "        update_metrics(metrics_train, CCM_train, distribution)\n",
        "        update_metrics(metrics_val, CCM_val, distribution)\n",
        "        update_metrics(metrics_test, CCM_test, distribution)\n",
        "\n",
        "        # printing continual confusion matrix\n",
        "        print_continual_confusion_matrix('train', CCM_train)\n",
        "        print_continual_confusion_matrix('val', CCM_val)\n",
        "        print_continual_confusion_matrix('test', CCM_test)\n",
        "\n",
        "        # printing metrics\n",
        "        print_metrics('train', metrics_train, distribution)\n",
        "        print_metrics('val', metrics_val, distribution)\n",
        "        print_metrics('test', metrics_test, distribution)\n",
        "\n",
        "# class dictionary\n",
        "class_dict = {'Class ' + str(j): j for j in range(0, c)}\n"
      ],
      "metadata": {
        "id": "jcyRSIPuUzu4",
        "colab": {
          "base_uri": "https://localhost:8080/"
        },
        "outputId": "a81642f9-dfdb-4b16-c274-3025c3274fd6"
      },
      "execution_count": 8,
      "outputs": [
        {
          "output_type": "stream",
          "name": "stdout",
          "text": [
            "t=0, loss=1.3165416717529297\n",
            "t=100, loss=5.125986263010418e-06\n",
            "CCM (train):\n",
            "    M/D |   0  |   1  |   2  |   3 \n",
            "    ----+------+------+------+------\n",
            "     0  | 1.00 | 0.00 | 0.00 | 0.00\n",
            "     1  | N.A. | N.A. | N.A. | N.A.\n",
            "     2  | N.A. | N.A. | N.A. | N.A.\n",
            "     3  | N.A. | N.A. | N.A. | N.A.\n",
            "CCM (val):\n",
            "    M/D |   0  |   1 \n",
            "    ----+------+------\n",
            "     0  | 1.00 | 0.00\n",
            "     1  | N.A. | N.A.\n",
            "CCM (test):\n",
            "    M/D |   0  |   1  |   2  |   3 \n",
            "    ----+------+------+------+------\n",
            "     0  | 1.00 | 0.00 | 0.00 | 0.00\n",
            "     1  | N.A. | N.A. | N.A. | N.A.\n",
            "     2  | N.A. | N.A. | N.A. | N.A.\n",
            "     3  | N.A. | N.A. | N.A. | N.A.\n",
            "Metrics (train)\tat distribution ID 0: avg_accuracy=1.00, avg_forgetting=0.00, backward_transfer=0.00, forward_transfer=0.00\n",
            "Metrics (val)\tat distribution ID 0: avg_accuracy=1.00, avg_forgetting=0.00, backward_transfer=0.00, forward_transfer=0.00\n",
            "Metrics (test)\tat distribution ID 0: avg_accuracy=1.00, avg_forgetting=0.00, backward_transfer=0.00, forward_transfer=0.00\n",
            "t=200, loss=10.92320442199707\n",
            "t=300, loss=3.218599158572033e-05\n",
            "t=400, loss=0.0\n",
            "t=500, loss=4.5298504119273275e-05\n",
            "CCM (train):\n",
            "    M/D |   0  |   1  |   2  |   3 \n",
            "    ----+------+------+------+------\n",
            "     0  | 1.00 | 0.00 | 0.00 | 0.00\n",
            "     1  | 0.00 | 1.00 | 0.00 | 0.00\n",
            "     2  | N.A. | N.A. | N.A. | N.A.\n",
            "     3  | N.A. | N.A. | N.A. | N.A.\n",
            "CCM (val):\n",
            "    M/D |   0  |   1 \n",
            "    ----+------+------\n",
            "     0  | 1.00 | 0.00\n",
            "     1  | 0.00 | 1.00\n",
            "CCM (test):\n",
            "    M/D |   0  |   1  |   2  |   3 \n",
            "    ----+------+------+------+------\n",
            "     0  | 1.00 | 0.00 | 0.00 | 0.00\n",
            "     1  | 0.00 | 1.00 | 0.00 | 0.00\n",
            "     2  | N.A. | N.A. | N.A. | N.A.\n",
            "     3  | N.A. | N.A. | N.A. | N.A.\n",
            "Metrics (train)\tat distribution ID 1: avg_accuracy=0.50, avg_forgetting=1.00, backward_transfer=0.00, forward_transfer=0.00\n",
            "Metrics (val)\tat distribution ID 1: avg_accuracy=0.50, avg_forgetting=1.00, backward_transfer=0.00, forward_transfer=0.00\n",
            "Metrics (test)\tat distribution ID 1: avg_accuracy=0.50, avg_forgetting=1.00, backward_transfer=0.00, forward_transfer=0.00\n",
            "t=600, loss=18.22779083251953\n",
            "CCM (train):\n",
            "    M/D |   0  |   1  |   2  |   3 \n",
            "    ----+------+------+------+------\n",
            "     0  | 1.00 | 0.00 | 0.00 | 0.00\n",
            "     1  | 0.00 | 1.00 | 0.00 | 0.00\n",
            "     2  | 0.00 | 0.00 | 1.00 | 0.00\n",
            "     3  | N.A. | N.A. | N.A. | N.A.\n",
            "CCM (val):\n",
            "    M/D |   0  |   1 \n",
            "    ----+------+------\n",
            "     0  | 1.00 | 0.00\n",
            "     1  | 0.00 | 1.00\n",
            "CCM (test):\n",
            "    M/D |   0  |   1  |   2  |   3 \n",
            "    ----+------+------+------+------\n",
            "     0  | 1.00 | 0.00 | 0.00 | 0.00\n",
            "     1  | 0.00 | 1.00 | 0.00 | 0.00\n",
            "     2  | 0.00 | 0.00 | 1.00 | 0.00\n",
            "     3  | N.A. | N.A. | N.A. | N.A.\n",
            "Metrics (train)\tat distribution ID 2: avg_accuracy=0.33, avg_forgetting=1.00, backward_transfer=0.00, forward_transfer=0.00\n",
            "Metrics (val)\tat distribution ID 1: avg_accuracy=0.50, avg_forgetting=1.00, backward_transfer=0.00, forward_transfer=0.00\n",
            "Metrics (test)\tat distribution ID 2: avg_accuracy=0.33, avg_forgetting=1.00, backward_transfer=0.00, forward_transfer=0.00\n",
            "t=700, loss=36.04998779296875\n",
            "t=800, loss=0.0009807306341826916\n",
            "t=900, loss=0.0\n",
            "CCM (train):\n",
            "    M/D |   0  |   1  |   2  |   3 \n",
            "    ----+------+------+------+------\n",
            "     0  | 1.00 | 0.00 | 0.00 | 0.00\n",
            "     1  | 0.00 | 1.00 | 0.00 | 0.00\n",
            "     2  | 0.00 | 0.00 | 1.00 | 0.00\n",
            "     3  | 0.00 | 0.00 | 0.00 | 1.00\n",
            "CCM (val):\n",
            "    M/D |   0  |   1 \n",
            "    ----+------+------\n",
            "     0  | 1.00 | 0.00\n",
            "     1  | 0.00 | 1.00\n",
            "CCM (test):\n",
            "    M/D |   0  |   1  |   2  |   3 \n",
            "    ----+------+------+------+------\n",
            "     0  | 1.00 | 0.00 | 0.00 | 0.00\n",
            "     1  | 0.00 | 1.00 | 0.00 | 0.00\n",
            "     2  | 0.00 | 0.00 | 1.00 | 0.00\n",
            "     3  | 0.00 | 0.00 | 0.00 | 1.00\n",
            "Metrics (train)\tat distribution ID 3: avg_accuracy=0.25, avg_forgetting=1.00, backward_transfer=0.00, forward_transfer=0.00\n",
            "Metrics (val)\tat distribution ID 1: avg_accuracy=0.50, avg_forgetting=1.00, backward_transfer=0.00, forward_transfer=0.00\n",
            "Metrics (test)\tat distribution ID 3: avg_accuracy=0.25, avg_forgetting=1.00, backward_transfer=0.00, forward_transfer=0.00\n"
          ]
        }
      ]
    },
    {
      "cell_type": "code",
      "source": [
        "\n",
        "# plotting predictions at the end of training\n",
        "plot_2d_data_and_predictions('train', X_train, y_train, class_dict, net).show()"
      ],
      "metadata": {
        "id": "BdCKm6rjWEf7",
        "colab": {
          "base_uri": "https://localhost:8080/",
          "height": 406
        },
        "outputId": "43d48fb1-1e74-46ca-95f4-b009c9b5430d"
      },
      "execution_count": 9,
      "outputs": [
        {
          "output_type": "display_data",
          "data": {
            "text/plain": [
              "<Figure size 640x480 with 1 Axes>"
            ],
            "image/png": "[encoded data removed]"
          },
          "metadata": {}
        }
      ]
    },
    {
      "cell_type": "markdown",
      "source": [
        "The model is not able to discern the different data distributions: it catastrophically forgets previous knwoledge.\n",
        "\n",
        "\n",
        "Let's now test a Memory Head on the same task, defining it as follows:"
      ],
      "metadata": {
        "id": "KUMokyp8VVdw"
      }
    },
    {
      "cell_type": "code",
      "source": [
        "from cnu.layers import Linear as CNULinear\n",
        "from d2d.utils_2d_datasets import add_keys_from_cnu\n",
        "net = nn.Sequential(\n",
        "    # nn.Linear(in_features=d, out_features=10, bias=True),\n",
        "    # nn.Tanh(),\n",
        "    # nn.Linear(in_features=10, out_features=c, bias=True)\n",
        "    CNULinear(in_features=d, out_features=c, shared_keys=True, bias=True,\n",
        "             key_mem_units=10,\n",
        "             psi_fn=\"identity\",\n",
        "             # choices=[\"identity\", \"identity_psi\", \"resize2d_sign\", \"resize1d\", \"resize2d\", \"sign\",  \"2d_resize_psi\"])\n",
        "             upd_m=\"WTA\",  # choices=[\"vanilla\", \"WTA\"]\n",
        "             upd_k=\"ad_hoc_WTA\",  # choices=[\"ad_hoc_WTA\", \"grad_WTA\", \"grad_not_WTA\"]\n",
        "             beta_k=0.01,\n",
        "             gamma_alpha=25.0, tau_alpha=0.95,\n",
        "             tau_mu=50,\n",
        "             tau_eta=50, scramble=True,\n",
        "             delta=2,)\n",
        "    ).to(device)\n",
        "\n",
        "# optimizer\n",
        "optimizer = torch.optim.Adam(net.parameters(), lr=0.01)"
      ],
      "metadata": {
        "id": "NKxKs4XbVol8"
      },
      "execution_count": 20,
      "outputs": []
    },
    {
      "cell_type": "markdown",
      "source": [
        "Define metrics"
      ],
      "metadata": {
        "id": "y08Hmi1bV3Gn"
      }
    },
    {
      "cell_type": "code",
      "source": [
        "# continual confusion matrices (empty, -1 means \"unfilled yet\", important!)\n",
        "CCM_train = create_continual_confusion_matrix(distributions_train)\n",
        "CCM_val = create_continual_confusion_matrix(distributions_val)\n",
        "CCM_test = create_continual_confusion_matrix(distributions_test)\n",
        "\n",
        "# metrics containers (empty, -1 means \"unfilled yet\", important!)\n",
        "metrics_train = create_metrics_dictionary(distributions_train)\n",
        "metrics_val = create_metrics_dictionary(distributions_val)\n",
        "metrics_test = create_metrics_dictionary(distributions_test)"
      ],
      "metadata": {
        "id": "HI6umIuFVvHA"
      },
      "execution_count": 16,
      "outputs": []
    },
    {
      "cell_type": "code",
      "source": [
        "# streaming loop\n",
        "net.train()\n",
        "for t, (x, y, distribution) in enumerate(zip(X_train, y_train, distributions_train)):\n",
        "\n",
        "    # adding batch size and clearing up the tensor box\n",
        "    x.unsqueeze_(0)\n",
        "    y.unsqueeze_(0)\n",
        "    distribution = distribution.item()\n",
        "\n",
        "    # learning step\n",
        "    o = net(x)\n",
        "    loss = nn.functional.cross_entropy(o, y, reduction='mean')  # no real reductions are actually performed...\n",
        "    optimizer.zero_grad()\n",
        "    loss.backward()\n",
        "    optimizer.step()\n",
        "\n",
        "    # printing\n",
        "    if t % 100 == 0:\n",
        "      print('t=' + str(t) + ', loss=' + str(loss.item()))\n",
        "\n",
        "    # metrics (computed when training ends or when the distribution is going to change on the next step)\n",
        "    if t == X_train.shape[0] - 1 or distributions_train[t + 1] != distribution:\n",
        "        # adding a new row to the continual confusion matrices (exploiting the current network)\n",
        "        fill_row_in_continual_confusion_matrix(CCM_train, distribution, net, X_train, y_train, distributions_train)\n",
        "        fill_row_in_continual_confusion_matrix(CCM_val, distribution, net, X_val, y_val, distributions_val)\n",
        "        fill_row_in_continual_confusion_matrix(CCM_test, distribution, net, X_test, y_test, distributions_test)\n",
        "\n",
        "        # updating metrics\n",
        "        update_metrics(metrics_train, CCM_train, distribution)\n",
        "        update_metrics(metrics_val, CCM_val, distribution)\n",
        "        update_metrics(metrics_test, CCM_test, distribution)\n",
        "\n",
        "        # printing continual confusion matrix\n",
        "        print_continual_confusion_matrix('train', CCM_train)\n",
        "        print_continual_confusion_matrix('val', CCM_val)\n",
        "        print_continual_confusion_matrix('test', CCM_test)\n",
        "\n",
        "        # printing metrics\n",
        "        print_metrics('train', metrics_train, distribution)\n",
        "        print_metrics('val', metrics_val, distribution)\n",
        "        print_metrics('test', metrics_test, distribution)\n",
        "\n"
      ],
      "metadata": {
        "id": "jkQ_pB7JV1mQ",
        "colab": {
          "base_uri": "https://localhost:8080/"
        },
        "outputId": "cee48239-f009-4b3f-b537-731df52e9f1d"
      },
      "execution_count": 17,
      "outputs": [
        {
          "output_type": "stream",
          "name": "stdout",
          "text": [
            "t=0, loss=1.4873265027999878\n",
            "t=100, loss=0.3848642408847809\n",
            "CCM (train):\n",
            "    M/D |   0  |   1  |   2  |   3 \n",
            "    ----+------+------+------+------\n",
            "     0  | 1.00 | 0.16 | 0.35 | 0.01\n",
            "     1  | N.A. | N.A. | N.A. | N.A.\n",
            "     2  | N.A. | N.A. | N.A. | N.A.\n",
            "     3  | N.A. | N.A. | N.A. | N.A.\n",
            "CCM (val):\n",
            "    M/D |   0  |   1 \n",
            "    ----+------+------\n",
            "     0  | 1.00 | 0.17\n",
            "     1  | N.A. | N.A.\n",
            "CCM (test):\n",
            "    M/D |   0  |   1  |   2  |   3 \n",
            "    ----+------+------+------+------\n",
            "     0  | 1.00 | 0.14 | 0.28 | 0.01\n",
            "     1  | N.A. | N.A. | N.A. | N.A.\n",
            "     2  | N.A. | N.A. | N.A. | N.A.\n",
            "     3  | N.A. | N.A. | N.A. | N.A.\n",
            "Metrics (train)\tat distribution ID 0: avg_accuracy=1.00, avg_forgetting=0.00, backward_transfer=0.00, forward_transfer=0.00\n",
            "Metrics (val)\tat distribution ID 0: avg_accuracy=1.00, avg_forgetting=0.00, backward_transfer=0.00, forward_transfer=0.00\n",
            "Metrics (test)\tat distribution ID 0: avg_accuracy=1.00, avg_forgetting=0.00, backward_transfer=0.00, forward_transfer=0.00\n",
            "t=200, loss=1.177154302597046\n",
            "t=300, loss=0.04620584473013878\n",
            "t=400, loss=0.12716835737228394\n",
            "t=500, loss=0.02278563380241394\n",
            "CCM (train):\n",
            "    M/D |   0  |   1  |   2  |   3 \n",
            "    ----+------+------+------+------\n",
            "     0  | 1.00 | 0.16 | 0.35 | 0.01\n",
            "     1  | 0.58 | 1.00 | 0.00 | 0.00\n",
            "     2  | N.A. | N.A. | N.A. | N.A.\n",
            "     3  | N.A. | N.A. | N.A. | N.A.\n",
            "CCM (val):\n",
            "    M/D |   0  |   1 \n",
            "    ----+------+------\n",
            "     0  | 1.00 | 0.17\n",
            "     1  | 0.63 | 1.00\n",
            "CCM (test):\n",
            "    M/D |   0  |   1  |   2  |   3 \n",
            "    ----+------+------+------+------\n",
            "     0  | 1.00 | 0.14 | 0.28 | 0.01\n",
            "     1  | 0.59 | 0.98 | 0.00 | 0.00\n",
            "     2  | N.A. | N.A. | N.A. | N.A.\n",
            "     3  | N.A. | N.A. | N.A. | N.A.\n",
            "Metrics (train)\tat distribution ID 1: avg_accuracy=0.79, avg_forgetting=0.42, backward_transfer=0.00, forward_transfer=0.16\n",
            "Metrics (val)\tat distribution ID 1: avg_accuracy=0.81, avg_forgetting=0.37, backward_transfer=0.00, forward_transfer=0.17\n",
            "Metrics (test)\tat distribution ID 1: avg_accuracy=0.78, avg_forgetting=0.41, backward_transfer=0.00, forward_transfer=0.14\n",
            "t=600, loss=2.6071274280548096\n",
            "CCM (train):\n",
            "    M/D |   0  |   1  |   2  |   3 \n",
            "    ----+------+------+------+------\n",
            "     0  | 1.00 | 0.16 | 0.35 | 0.01\n",
            "     1  | 0.58 | 1.00 | 0.00 | 0.00\n",
            "     2  | 0.56 | 0.99 | 1.00 | 0.00\n",
            "     3  | N.A. | N.A. | N.A. | N.A.\n",
            "CCM (val):\n",
            "    M/D |   0  |   1 \n",
            "    ----+------+------\n",
            "     0  | 1.00 | 0.17\n",
            "     1  | 0.63 | 1.00\n",
            "CCM (test):\n",
            "    M/D |   0  |   1  |   2  |   3 \n",
            "    ----+------+------+------+------\n",
            "     0  | 1.00 | 0.14 | 0.28 | 0.01\n",
            "     1  | 0.59 | 0.98 | 0.00 | 0.00\n",
            "     2  | 0.59 | 0.98 | 1.00 | 0.00\n",
            "     3  | N.A. | N.A. | N.A. | N.A.\n",
            "Metrics (train)\tat distribution ID 2: avg_accuracy=0.85, avg_forgetting=0.23, backward_transfer=0.00, forward_transfer=0.17\n",
            "Metrics (val)\tat distribution ID 1: avg_accuracy=0.81, avg_forgetting=0.37, backward_transfer=0.00, forward_transfer=0.17\n",
            "Metrics (test)\tat distribution ID 2: avg_accuracy=0.86, avg_forgetting=0.21, backward_transfer=0.00, forward_transfer=0.14\n",
            "t=700, loss=3.6197807788848877\n",
            "t=800, loss=0.29311391711235046\n",
            "t=900, loss=0.10909312218427658\n",
            "CCM (train):\n",
            "    M/D |   0  |   1  |   2  |   3 \n",
            "    ----+------+------+------+------\n",
            "     0  | 1.00 | 0.16 | 0.35 | 0.01\n",
            "     1  | 0.58 | 1.00 | 0.00 | 0.00\n",
            "     2  | 0.56 | 0.99 | 1.00 | 0.00\n",
            "     3  | 0.56 | 0.48 | 0.50 | 1.00\n",
            "CCM (val):\n",
            "    M/D |   0  |   1 \n",
            "    ----+------+------\n",
            "     0  | 1.00 | 0.17\n",
            "     1  | 0.63 | 1.00\n",
            "CCM (test):\n",
            "    M/D |   0  |   1  |   2  |   3 \n",
            "    ----+------+------+------+------\n",
            "     0  | 1.00 | 0.14 | 0.28 | 0.01\n",
            "     1  | 0.59 | 0.98 | 0.00 | 0.00\n",
            "     2  | 0.59 | 0.98 | 1.00 | 0.00\n",
            "     3  | 0.57 | 0.47 | 0.50 | 1.00\n",
            "Metrics (train)\tat distribution ID 3: avg_accuracy=0.63, avg_forgetting=0.49, backward_transfer=0.00, forward_transfer=0.09\n",
            "Metrics (val)\tat distribution ID 1: avg_accuracy=0.81, avg_forgetting=0.37, backward_transfer=0.00, forward_transfer=0.17\n",
            "Metrics (test)\tat distribution ID 3: avg_accuracy=0.64, avg_forgetting=0.48, backward_transfer=0.00, forward_transfer=0.07\n"
          ]
        }
      ]
    },
    {
      "cell_type": "markdown",
      "source": [
        "Now, let's plot the developed class separation surfaces, as long as the learned keys (blue stars)."
      ],
      "metadata": {
        "id": "n-8QYtfUWYaU"
      }
    },
    {
      "cell_type": "code",
      "source": [
        "# class dictionary\n",
        "class_dict = {'Class ' + str(j): j for j in range(0, c)}\n",
        "\n",
        "# getting keys, if any, adding them to the data, with an ad-hoc label\n",
        "X_train, y_train, class_dict = add_keys_from_cnu(net, X_train, y_train, class_dict)\n",
        "\n",
        "# plotting predictions at the end of training\n",
        "plot_2d_data_and_predictions('train', X_train, y_train, class_dict, net).show()"
      ],
      "metadata": {
        "id": "XSB_WP8UV87x",
        "colab": {
          "base_uri": "https://localhost:8080/",
          "height": 406
        },
        "outputId": "70a54fef-eb7f-4e56-d42e-169a9b9fe607"
      },
      "execution_count": 21,
      "outputs": [
        {
          "output_type": "display_data",
          "data": {
            "text/plain": [
              "<Figure size 640x480 with 1 Axes>"
            ],
            "image/png": "[encoded data removed]"
          },
          "metadata": {}
        }
      ]
    },
    {
      "cell_type": "code",
      "source": [],
      "metadata": {
        "id": "gf4eAGU1WKkB"
      },
      "execution_count": null,
      "outputs": []
    }
  ]
}